{
 "cells": [
  {
   "cell_type": "markdown",
   "metadata": {
    "id": "7zRxGG-vihlI"
   },
   "source": [
    "# Predicting Churn at QWE Inc.\n",
    "\n",
    "* Is Wall's belief about the dependence of churn rates on customer age supported by the data? To get some intuition, try visualizing this dependence\n",
    "\n",
    "\n",
    "* To start, run a single logistic regression model that best predicts the probability that a customer leaves\n",
    "\n",
    "\n",
    "* What factors contribute the most to the predicted probability that these customers will leave?\n",
    "\n",
    "\n",
    "* Any other better models?\n",
    "\n",
    "\n",
    "* What is the predicted probability of churning for customers 672, 354, 5203? Who are the top 100 customers with highest churn probabilites?"
   ]
  },
  {
   "cell_type": "markdown",
   "metadata": {
    "id": "T6KhMyjZyg8j"
   },
   "source": [
    "## Summary\n",
    "### We run four classification model with different setting and improvement.\n",
    "\n",
    "*   [LR Benchmark](#Benchmark): Logistic Regression run by Statsmodel w/o split <br/>\n",
    "*   [LR Sklearn with split](#Sklearn-with-split): Logistic Regression run by Sklearn with split<br/>\n",
    "*   [LR Sklearn w split w Oversampling](#Sklearn-w-split-w-oversample): Logistic Regression run by Sklearn with split with oversampleing<br/>\n",
    "*   [Decision Tree](#DT): Original data run by Decision Tree\n",
    "\n",
    "<br/>\n",
    "\n",
    "> Table 1: Model accuracy cross models\n",
    "\n",
    "Models       | Accuracy      \n",
    "---------------------    |----------------\n",
    "Benchmark               | Pseudo R-squ = 0.044\n",
    "statsmodel w split w oversampling               | Pseudo R-squ = 0.065\n",
    "Sklearn with split      | training : 0.951, test: 0.945   \n",
    "Decision Tree without Oversampling  | 0.89\n",
    "Decision Tree with Oversampling | 0.97 \n",
    "Random forest w oversampling | 0.989\n",
    "\n",
    "<br/>\n",
    "<br/>\n",
    "\n",
    "> Table 2: Selected Predicted Probability cross models\n",
    "\n",
    "Predicted Probability| Benchmark      | Sklearn with split| Statsmodel LR w split w Oversampling\n",
    "---------------------|----------------|------------------|------------------\n",
    "672                  | 0.038105       | 0.0611           | 0.4356\n",
    "354                  | 0.047798       | 0.0882           | 0.4826\n",
    "5203                 | 0.042739       | 0.0623           | 0.4542\n",
    "\n",
    "<br/>\n",
    "<br/>\n",
    "\n",
    "What factors contribute the most to the predicted probability that these customers will leave?\n",
    "<br/>\n",
    "Based on Benchmark model, we calculate the [odd ratio](#odd-ratio). \n",
    "\n",
    "\n",
    "\n"
   ]
  },
  {
   "cell_type": "code",
   "execution_count": 2,
   "metadata": {
    "colab": {
     "base_uri": "https://localhost:8080/"
    },
    "id": "omDtlU3tihlQ",
    "outputId": "dd311d1c-7580-471d-e016-ef82df244c3b"
   },
   "outputs": [
    {
     "name": "stderr",
     "output_type": "stream",
     "text": [
      "/usr/local/lib/python3.7/dist-packages/statsmodels/tools/_testing.py:19: FutureWarning: pandas.util.testing is deprecated. Use the functions in the public API at pandas.testing instead.\n",
      "  import pandas.util.testing as tm\n"
     ]
    }
   ],
   "source": [
    "# special IPython command to prepare the notebook for matplotlib\n",
    "%matplotlib inline \n",
    "\n",
    "import numpy as np\n",
    "import pandas as pd\n",
    "import scipy.stats as stats\n",
    "import matplotlib.pyplot as plt\n",
    "import sklearn\n",
    "import statsmodels.api as sm\n",
    "\n",
    "import seaborn as sns\n",
    "sns.set_style(\"whitegrid\")\n",
    "sns.set_context(\"poster\")\n",
    "\n",
    "# special matplotlib argument for improved plots\n",
    "from matplotlib import rcParams\n",
    "rcParams['figure.figsize'] = 12, 6\n"
   ]
  },
  {
   "cell_type": "code",
   "execution_count": 4,
   "metadata": {
    "colab": {
     "base_uri": "https://localhost:8080/"
    },
    "id": "YJkANfv7ihlT",
    "outputId": "2360d65c-8b71-45dd-f766-b434326518d7"
   },
   "outputs": [
    {
     "data": {
      "text/plain": [
       "(6347, 13)"
      ]
     },
     "execution_count": 4,
     "metadata": {},
     "output_type": "execute_result"
    }
   ],
   "source": [
    "df = pd.read_excel('QWE.xlsx', \"Case Data\")\n",
    "df.shape\n"
   ]
  },
  {
   "cell_type": "code",
   "execution_count": 5,
   "metadata": {
    "colab": {
     "base_uri": "https://localhost:8080/",
     "height": 418
    },
    "id": "WDWli3NIihlV",
    "outputId": "358fe728-e9a2-478e-914c-4f0533f4ed33"
   },
   "outputs": [
    {
     "data": {
      "image/png": "[encoded data removed]",
      "text/plain": [
       "<Figure size 864x432 with 1 Axes>"
      ]
     },
     "metadata": {},
     "output_type": "display_data"
    }
   ],
   "source": [
    "#you can use a weighted histogram\n",
    "df.columns = [\"ID\",\"Age\",\"Churn\",\"CHI_0\",\"CHI_1\",\"Support_Cases_0\",\"Support_Cases_1\",\"SP_0\",\"SP_1\",\"Logins_1\",\"Blogs_1\", \"Views_1\",\"Days_Last_Login\"]\n",
    "df.hist(\"Age\", weights=df.Churn)\n",
    "plt.ylabel(\"counts\")\n",
    "plt.show()\n"
   ]
  },
  {
   "cell_type": "code",
   "execution_count": 6,
   "metadata": {
    "colab": {
     "base_uri": "https://localhost:8080/"
    },
    "id": "xIHNhvKcihlW",
    "outputId": "defe8ab8-52f2-4c07-90df-cd25fb1ee481"
   },
   "outputs": [
    {
     "data": {
      "text/plain": [
       "0    6024\n",
       "1     323\n",
       "Name: Churn, dtype: int64"
      ]
     },
     "execution_count": 6,
     "metadata": {},
     "output_type": "execute_result"
    }
   ],
   "source": [
    "df.Churn.value_counts()"
   ]
  },
  {
   "cell_type": "code",
   "execution_count": 7,
   "metadata": {
    "colab": {
     "base_uri": "https://localhost:8080/",
     "height": 471
    },
    "id": "Xvw5g74JihlX",
    "outputId": "d9f79e40-55cf-4557-8ce0-a740c39bbfbe"
   },
   "outputs": [
    {
     "data": {
      "text/plain": [
       "Text(0, 0.5, 'Frequency of Churn')"
      ]
     },
     "execution_count": 7,
     "metadata": {},
     "output_type": "execute_result"
    },
    {
     "data": {
      "image/png": "[encoded data removed]",
      "text/plain": [
       "<Figure size 864x432 with 1 Axes>"
      ]
     },
     "metadata": {},
     "output_type": "display_data"
    }
   ],
   "source": [
    "pd.crosstab(df.Age, df.Churn).plot(kind='bar', stacked = True)\n",
    "plt.title('Churn Frequency for Difference Age')\n",
    "plt.xlabel('Age')\n",
    "plt.ylabel('Frequency of Churn')"
   ]
  },
  {
   "cell_type": "code",
   "execution_count": 8,
   "metadata": {
    "colab": {
     "base_uri": "https://localhost:8080/",
     "height": 142
    },
    "id": "1gyYwlAOihlY",
    "outputId": "4a708c59-6141-4c10-ccfe-a2791f953d8a"
   },
   "outputs": [
    {
     "data": {
      "text/html": [
       "<div>\n",
       "<style scoped>\n",
       "    .dataframe tbody tr th:only-of-type {\n",
       "        vertical-align: middle;\n",
       "    }\n",
       "\n",
       "    .dataframe tbody tr th {\n",
       "        vertical-align: top;\n",
       "    }\n",
       "\n",
       "    .dataframe thead th {\n",
       "        text-align: right;\n",
       "    }\n",
       "</style>\n",
       "<table border=\"1\" class=\"dataframe\">\n",
       "  <thead>\n",
       "    <tr style=\"text-align: right;\">\n",
       "      <th></th>\n",
       "      <th>ID</th>\n",
       "      <th>Age</th>\n",
       "      <th>CHI_0</th>\n",
       "      <th>CHI_1</th>\n",
       "      <th>Support_Cases_0</th>\n",
       "      <th>Support_Cases_1</th>\n",
       "      <th>SP_0</th>\n",
       "      <th>SP_1</th>\n",
       "      <th>Logins_1</th>\n",
       "      <th>Blogs_1</th>\n",
       "      <th>Views_1</th>\n",
       "      <th>Days_Last_Login</th>\n",
       "    </tr>\n",
       "    <tr>\n",
       "      <th>Churn</th>\n",
       "      <th></th>\n",
       "      <th></th>\n",
       "      <th></th>\n",
       "      <th></th>\n",
       "      <th></th>\n",
       "      <th></th>\n",
       "      <th></th>\n",
       "      <th></th>\n",
       "      <th></th>\n",
       "      <th></th>\n",
       "      <th></th>\n",
       "      <th></th>\n",
       "    </tr>\n",
       "  </thead>\n",
       "  <tbody>\n",
       "    <tr>\n",
       "      <th>0</th>\n",
       "      <td>3219.269588</td>\n",
       "      <td>13.818725</td>\n",
       "      <td>88.605910</td>\n",
       "      <td>5.530212</td>\n",
       "      <td>0.724270</td>\n",
       "      <td>-0.009296</td>\n",
       "      <td>0.829576</td>\n",
       "      <td>0.032682</td>\n",
       "      <td>16.138944</td>\n",
       "      <td>0.171149</td>\n",
       "      <td>106.609562</td>\n",
       "      <td>1.511454</td>\n",
       "    </tr>\n",
       "    <tr>\n",
       "      <th>1</th>\n",
       "      <td>2329.715170</td>\n",
       "      <td>15.352941</td>\n",
       "      <td>63.272446</td>\n",
       "      <td>-3.736842</td>\n",
       "      <td>0.371517</td>\n",
       "      <td>0.037152</td>\n",
       "      <td>0.499558</td>\n",
       "      <td>-0.016696</td>\n",
       "      <td>8.061920</td>\n",
       "      <td>-0.102167</td>\n",
       "      <td>-95.767802</td>\n",
       "      <td>6.486068</td>\n",
       "    </tr>\n",
       "  </tbody>\n",
       "</table>\n",
       "</div>"
      ],
      "text/plain": [
       "                ID        Age      CHI_0  ...   Blogs_1     Views_1  Days_Last_Login\n",
       "Churn                                     ...                                       \n",
       "0      3219.269588  13.818725  88.605910  ...  0.171149  106.609562         1.511454\n",
       "1      2329.715170  15.352941  63.272446  ... -0.102167  -95.767802         6.486068\n",
       "\n",
       "[2 rows x 12 columns]"
      ]
     },
     "execution_count": 8,
     "metadata": {},
     "output_type": "execute_result"
    }
   ],
   "source": [
    "df.groupby(\"Churn\").mean()"
   ]
  },
  {
   "cell_type": "code",
   "execution_count": 9,
   "metadata": {
    "colab": {
     "base_uri": "https://localhost:8080/",
     "height": 586
    },
    "id": "UbYE3YUyu08M",
    "outputId": "8d65ca30-5a11-4e66-f235-5e9f71cdc42e"
   },
   "outputs": [
    {
     "data": {
      "text/plain": [
       "<matplotlib.axes._subplots.AxesSubplot at 0x7faa215706d0>"
      ]
     },
     "execution_count": 9,
     "metadata": {},
     "output_type": "execute_result"
    },
    {
     "data": {
      "image/png": "[encoded data removed]",
      "text/plain": [
       "<Figure size 864x432 with 2 Axes>"
      ]
     },
     "metadata": {},
     "output_type": "display_data"
    }
   ],
   "source": [
    "#correlation = df['Churn'].corr(df['Age'])\n",
    "#correlation\n",
    "correlation=df.corr()\n",
    "sns.heatmap(correlation)\n"
   ]
  },
  {
   "cell_type": "markdown",
   "metadata": {
    "id": "YFir5RV-wQpv"
   },
   "source": [
    "Wall's belief about the dependence of churn rates on customer age is not supported by the data."
   ]
  },
  {
   "cell_type": "markdown",
   "metadata": {
    "id": "rB6-vV284ALm"
   },
   "source": [
    "LR Benchmark<a name=\"Benchmark\"></a>"
   ]
  },
  {
   "cell_type": "code",
   "execution_count": 10,
   "metadata": {
    "id": "GnLOVoCnihlZ"
   },
   "outputs": [],
   "source": [
    "# statsmodels works nicely with pandas dataframes, import the logistic regression function\n",
    "import statsmodels.api as sm\n",
    "from statsmodels.formula.api import logit, glm, ols"
   ]
  },
  {
   "cell_type": "code",
   "execution_count": 11,
   "metadata": {
    "colab": {
     "base_uri": "https://localhost:8080/"
    },
    "id": "z3yEhgMfihla",
    "outputId": "bad8e5c9-a667-4538-b7e9-e8cf91f0f35c"
   },
   "outputs": [
    {
     "name": "stdout",
     "output_type": "stream",
     "text": [
      "Optimization terminated successfully.\n",
      "         Current function value: 0.192243\n",
      "         Iterations 8\n",
      "                           Logit Regression Results                           \n",
      "==============================================================================\n",
      "Dep. Variable:                  Churn   No. Observations:                 6347\n",
      "Model:                          Logit   Df Residuals:                     6335\n",
      "Method:                           MLE   Df Model:                           11\n",
      "Date:                Fri, 12 Nov 2021   Pseudo R-squ.:                 0.04418\n",
      "Time:                        03:18:28   Log-Likelihood:                -1220.2\n",
      "converged:                       True   LL-Null:                       -1276.6\n",
      "Covariance Type:            nonrobust   LLR p-value:                 5.077e-19\n",
      "===================================================================================\n",
      "                      coef    std err          z      P>|z|      [0.025      0.975]\n",
      "-----------------------------------------------------------------------------------\n",
      "Intercept          -2.7627      0.107    -25.841      0.000      -2.972      -2.553\n",
      "Age                 0.0127      0.005      2.366      0.018       0.002       0.023\n",
      "CHI_0              -0.0047      0.001     -3.808      0.000      -0.007      -0.002\n",
      "CHI_1              -0.0103      0.002     -4.153      0.000      -0.015      -0.005\n",
      "Support_Cases_0    -0.1524      0.105     -1.452      0.146      -0.358       0.053\n",
      "Support_Cases_1     0.1703      0.090      1.881      0.060      -0.007       0.348\n",
      "SP_0                0.0159      0.102      0.156      0.876      -0.184       0.216\n",
      "SP_1               -0.0519      0.079     -0.661      0.508      -0.206       0.102\n",
      "Logins_1            0.0003      0.002      0.138      0.890      -0.004       0.004\n",
      "Blogs_1             0.0003      0.020      0.015      0.988      -0.038       0.039\n",
      "Views_1            -0.0001   4.07e-05     -2.697      0.007      -0.000      -3e-05\n",
      "Days_Last_Login     0.0172      0.004      4.020      0.000       0.009       0.026\n",
      "===================================================================================\n"
     ]
    }
   ],
   "source": [
    "#your code here : benchmark model with all features and not split train and test set\n",
    "logit_model = logit('Churn ~ Age+CHI_0+CHI_1+Support_Cases_0+Support_Cases_1+SP_0+SP_1+Logins_1+Blogs_1+Views_1+Days_Last_Login',df).fit()\n",
    "print(logit_model.summary())"
   ]
  },
  {
   "cell_type": "code",
   "execution_count": 12,
   "metadata": {
    "colab": {
     "base_uri": "https://localhost:8080/"
    },
    "id": "f2MJsP4xi8_t",
    "outputId": "68279bc9-c0b2-4910-c406-99b454695f69"
   },
   "outputs": [
    {
     "name": "stdout",
     "output_type": "stream",
     "text": [
      "Intercept         -2.762670\n",
      "Age                0.012706\n",
      "CHI_0             -0.004657\n",
      "CHI_1             -0.010275\n",
      "Support_Cases_0   -0.152370\n",
      "Support_Cases_1    0.170263\n",
      "SP_0               0.015929\n",
      "SP_1              -0.051937\n",
      "Logins_1           0.000289\n",
      "Blogs_1            0.000290\n",
      "Views_1           -0.000110\n",
      "Days_Last_Login    0.017242\n",
      "dtype: float64\n"
     ]
    }
   ],
   "source": [
    "p = logit_model.params\n",
    "print(p)"
   ]
  },
  {
   "cell_type": "markdown",
   "metadata": {
    "id": "-UvpXQSSBjh0"
   },
   "source": [
    "<a name=\"odd-ratio\"></a>"
   ]
  },
  {
   "cell_type": "code",
   "execution_count": 13,
   "metadata": {
    "colab": {
     "base_uri": "https://localhost:8080/",
     "height": 418
    },
    "id": "A7l-17OXjV1r",
    "outputId": "7a636743-d503-4656-fa4e-d3a5c7758838"
   },
   "outputs": [
    {
     "data": {
      "text/html": [
       "<div>\n",
       "<style scoped>\n",
       "    .dataframe tbody tr th:only-of-type {\n",
       "        vertical-align: middle;\n",
       "    }\n",
       "\n",
       "    .dataframe tbody tr th {\n",
       "        vertical-align: top;\n",
       "    }\n",
       "\n",
       "    .dataframe thead th {\n",
       "        text-align: right;\n",
       "    }\n",
       "</style>\n",
       "<table border=\"1\" class=\"dataframe\">\n",
       "  <thead>\n",
       "    <tr style=\"text-align: right;\">\n",
       "      <th></th>\n",
       "      <th>odd ratio</th>\n",
       "    </tr>\n",
       "  </thead>\n",
       "  <tbody>\n",
       "    <tr>\n",
       "      <th>Support_Cases_1</th>\n",
       "      <td>1.185617</td>\n",
       "    </tr>\n",
       "    <tr>\n",
       "      <th>Days_Last_Login</th>\n",
       "      <td>1.017392</td>\n",
       "    </tr>\n",
       "    <tr>\n",
       "      <th>SP_0</th>\n",
       "      <td>1.016057</td>\n",
       "    </tr>\n",
       "    <tr>\n",
       "      <th>Age</th>\n",
       "      <td>1.012787</td>\n",
       "    </tr>\n",
       "    <tr>\n",
       "      <th>Blogs_1</th>\n",
       "      <td>1.000291</td>\n",
       "    </tr>\n",
       "    <tr>\n",
       "      <th>Logins_1</th>\n",
       "      <td>1.000289</td>\n",
       "    </tr>\n",
       "    <tr>\n",
       "      <th>Views_1</th>\n",
       "      <td>0.999890</td>\n",
       "    </tr>\n",
       "    <tr>\n",
       "      <th>CHI_0</th>\n",
       "      <td>0.995354</td>\n",
       "    </tr>\n",
       "    <tr>\n",
       "      <th>CHI_1</th>\n",
       "      <td>0.989778</td>\n",
       "    </tr>\n",
       "    <tr>\n",
       "      <th>SP_1</th>\n",
       "      <td>0.949389</td>\n",
       "    </tr>\n",
       "    <tr>\n",
       "      <th>Support_Cases_0</th>\n",
       "      <td>0.858670</td>\n",
       "    </tr>\n",
       "    <tr>\n",
       "      <th>Intercept</th>\n",
       "      <td>0.063123</td>\n",
       "    </tr>\n",
       "  </tbody>\n",
       "</table>\n",
       "</div>"
      ],
      "text/plain": [
       "                 odd ratio\n",
       "Support_Cases_1   1.185617\n",
       "Days_Last_Login   1.017392\n",
       "SP_0              1.016057\n",
       "Age               1.012787\n",
       "Blogs_1           1.000291\n",
       "Logins_1          1.000289\n",
       "Views_1           0.999890\n",
       "CHI_0             0.995354\n",
       "CHI_1             0.989778\n",
       "SP_1              0.949389\n",
       "Support_Cases_0   0.858670\n",
       "Intercept         0.063123"
      ]
     },
     "execution_count": 13,
     "metadata": {},
     "output_type": "execute_result"
    }
   ],
   "source": [
    "#What factors contribute the most to the predicted probability that these customers will leave?\n",
    "#odd ratio:  Δ odds > 1 -> increase churn rate,  Δ odds = 1 -> no difference,  Δ odds < 1 -> decrease churn rate\n",
    "odd_ratio_df = pd.DataFrame(np.exp(p))\n",
    "odd_ratio_df.columns = [\"odd ratio\"]\n",
    "odd_ratio_df.sort_values(by= \"odd ratio\", ascending = False)"
   ]
  },
  {
   "cell_type": "code",
   "execution_count": 14,
   "metadata": {
    "colab": {
     "base_uri": "https://localhost:8080/"
    },
    "id": "5cXmSPzsihlb",
    "outputId": "869549dd-e847-40be-b3bb-7f843bdb2915"
   },
   "outputs": [
    {
     "name": "stdout",
     "output_type": "stream",
     "text": [
      "      predicted probability of churning\n",
      "672                            0.038105\n",
      "354                            0.047798\n",
      "5203                           0.042739\n"
     ]
    }
   ],
   "source": [
    "#What is the predicted probability of churning for customers 672, 354, 5203? Here we use the full features without Normalization Logit Regression Model\n",
    "df_drop = df.drop(['ID', 'Churn'], axis = 1)\n",
    "x = [672, 354, 5203]\n",
    "\n",
    "x_prob = []\n",
    "\n",
    "for i in x: \n",
    "  s = pd.Series(df_drop.iloc[i-1])\n",
    "  eta = p['Intercept'] + p[[\"Age\",\"CHI_0\",\"CHI_1\",\"Support_Cases_0\",\"Support_Cases_1\",\"SP_0\",\"SP_1\",\"Logins_1\",\"Blogs_1\", \"Views_1\",\"Days_Last_Login\"]].dot(s)\n",
    "  x_prob.append(np.exp(eta)/(1 + np.exp(eta)))\n",
    "\n",
    "\n",
    "customer_prob_selected = pd.DataFrame(x_prob, x)\n",
    "customer_prob_selected.columns = [\"predicted probability of churning\"]\n",
    "print(customer_prob_selected)\n"
   ]
  },
  {
   "cell_type": "code",
   "execution_count": null,
   "metadata": {
    "id": "ajrYMZvnNZ_r"
   },
   "outputs": [],
   "source": []
  },
  {
   "cell_type": "code",
   "execution_count": 15,
   "metadata": {
    "colab": {
     "base_uri": "https://localhost:8080/",
     "height": 447
    },
    "id": "Pog678sUjCzL",
    "outputId": "987253e1-db66-4f0d-cfc9-961d0c5d7192"
   },
   "outputs": [
    {
     "data": {
      "text/html": [
       "<div>\n",
       "<style scoped>\n",
       "    .dataframe tbody tr th:only-of-type {\n",
       "        vertical-align: middle;\n",
       "    }\n",
       "\n",
       "    .dataframe tbody tr th {\n",
       "        vertical-align: top;\n",
       "    }\n",
       "\n",
       "    .dataframe thead th {\n",
       "        text-align: right;\n",
       "    }\n",
       "</style>\n",
       "<table border=\"1\" class=\"dataframe\">\n",
       "  <thead>\n",
       "    <tr style=\"text-align: right;\">\n",
       "      <th></th>\n",
       "      <th>predicted probability of churning</th>\n",
       "    </tr>\n",
       "    <tr>\n",
       "      <th>ID</th>\n",
       "      <th></th>\n",
       "    </tr>\n",
       "  </thead>\n",
       "  <tbody>\n",
       "    <tr>\n",
       "      <th>1</th>\n",
       "      <td>0.201510</td>\n",
       "    </tr>\n",
       "    <tr>\n",
       "      <th>2</th>\n",
       "      <td>0.153817</td>\n",
       "    </tr>\n",
       "    <tr>\n",
       "      <th>3</th>\n",
       "      <td>0.178089</td>\n",
       "    </tr>\n",
       "    <tr>\n",
       "      <th>4</th>\n",
       "      <td>0.003362</td>\n",
       "    </tr>\n",
       "    <tr>\n",
       "      <th>5</th>\n",
       "      <td>0.155130</td>\n",
       "    </tr>\n",
       "    <tr>\n",
       "      <th>...</th>\n",
       "      <td>...</td>\n",
       "    </tr>\n",
       "    <tr>\n",
       "      <th>6343</th>\n",
       "      <td>0.060089</td>\n",
       "    </tr>\n",
       "    <tr>\n",
       "      <th>6344</th>\n",
       "      <td>0.060089</td>\n",
       "    </tr>\n",
       "    <tr>\n",
       "      <th>6345</th>\n",
       "      <td>0.060089</td>\n",
       "    </tr>\n",
       "    <tr>\n",
       "      <th>6346</th>\n",
       "      <td>0.060089</td>\n",
       "    </tr>\n",
       "    <tr>\n",
       "      <th>6347</th>\n",
       "      <td>0.060089</td>\n",
       "    </tr>\n",
       "  </tbody>\n",
       "</table>\n",
       "<p>6347 rows × 1 columns</p>\n",
       "</div>"
      ],
      "text/plain": [
       "      predicted probability of churning\n",
       "ID                                     \n",
       "1                              0.201510\n",
       "2                              0.153817\n",
       "3                              0.178089\n",
       "4                              0.003362\n",
       "5                              0.155130\n",
       "...                                 ...\n",
       "6343                           0.060089\n",
       "6344                           0.060089\n",
       "6345                           0.060089\n",
       "6346                           0.060089\n",
       "6347                           0.060089\n",
       "\n",
       "[6347 rows x 1 columns]"
      ]
     },
     "execution_count": 15,
     "metadata": {},
     "output_type": "execute_result"
    }
   ],
   "source": [
    "#Who are the top 100 customers with highest churn probabilites?\n",
    "y_prob = []\n",
    "\n",
    "for i in range(1,len(df)+1): \n",
    "  s = pd.Series(df_drop.iloc[i-1])\n",
    "  eta = p['Intercept'] + p[[\"Age\",\"CHI_0\",\"CHI_1\",\"Support_Cases_0\",\"Support_Cases_1\",\"SP_0\",\"SP_1\",\"Logins_1\",\"Blogs_1\", \"Views_1\",\"Days_Last_Login\"]].dot(s)\n",
    "  y_prob.append(np.exp(eta)/(1 + np.exp(eta)))\n",
    "\n",
    "\n",
    "customer_prob = pd.DataFrame(y_prob, df.ID)\n",
    "customer_prob.columns = [\"predicted probability of churning\"]\n",
    "customer_prob"
   ]
  },
  {
   "cell_type": "code",
   "execution_count": null,
   "metadata": {
    "colab": {
     "base_uri": "https://localhost:8080/",
     "height": 454
    },
    "id": "o2WvvrgVjEij",
    "outputId": "9cc0aafc-b12d-4ff2-f680-303dd3e1f742"
   },
   "outputs": [
    {
     "data": {
      "text/html": [
       "<div>\n",
       "<style scoped>\n",
       "    .dataframe tbody tr th:only-of-type {\n",
       "        vertical-align: middle;\n",
       "    }\n",
       "\n",
       "    .dataframe tbody tr th {\n",
       "        vertical-align: top;\n",
       "    }\n",
       "\n",
       "    .dataframe thead th {\n",
       "        text-align: right;\n",
       "    }\n",
       "</style>\n",
       "<table border=\"1\" class=\"dataframe\">\n",
       "  <thead>\n",
       "    <tr style=\"text-align: right;\">\n",
       "      <th></th>\n",
       "      <th>predicted probability of churning</th>\n",
       "    </tr>\n",
       "    <tr>\n",
       "      <th>ID</th>\n",
       "      <th></th>\n",
       "    </tr>\n",
       "  </thead>\n",
       "  <tbody>\n",
       "    <tr>\n",
       "      <th>2287</th>\n",
       "      <td>0.3963</td>\n",
       "    </tr>\n",
       "    <tr>\n",
       "      <th>357</th>\n",
       "      <td>0.3501</td>\n",
       "    </tr>\n",
       "    <tr>\n",
       "      <th>109</th>\n",
       "      <td>0.3004</td>\n",
       "    </tr>\n",
       "    <tr>\n",
       "      <th>1971</th>\n",
       "      <td>0.2471</td>\n",
       "    </tr>\n",
       "    <tr>\n",
       "      <th>2076</th>\n",
       "      <td>0.2162</td>\n",
       "    </tr>\n",
       "    <tr>\n",
       "      <th>...</th>\n",
       "      <td>...</td>\n",
       "    </tr>\n",
       "    <tr>\n",
       "      <th>62</th>\n",
       "      <td>0.1388</td>\n",
       "    </tr>\n",
       "    <tr>\n",
       "      <th>2656</th>\n",
       "      <td>0.1384</td>\n",
       "    </tr>\n",
       "    <tr>\n",
       "      <th>1908</th>\n",
       "      <td>0.1378</td>\n",
       "    </tr>\n",
       "    <tr>\n",
       "      <th>2913</th>\n",
       "      <td>0.1371</td>\n",
       "    </tr>\n",
       "    <tr>\n",
       "      <th>2286</th>\n",
       "      <td>0.1367</td>\n",
       "    </tr>\n",
       "  </tbody>\n",
       "</table>\n",
       "<p>100 rows × 1 columns</p>\n",
       "</div>"
      ],
      "text/plain": [
       "      predicted probability of churning\n",
       "ID                                     \n",
       "2287                             0.3963\n",
       "357                              0.3501\n",
       "109                              0.3004\n",
       "1971                             0.2471\n",
       "2076                             0.2162\n",
       "...                                 ...\n",
       "62                               0.1388\n",
       "2656                             0.1384\n",
       "1908                             0.1378\n",
       "2913                             0.1371\n",
       "2286                             0.1367\n",
       "\n",
       "[100 rows x 1 columns]"
      ]
     },
     "execution_count": 13,
     "metadata": {},
     "output_type": "execute_result"
    }
   ],
   "source": [
    "pd.options.display.float_format = '{:.4f}'.format\n",
    "customer_prob_sorted = customer_prob.sort_values(by = \"predicted probability of churning\", ascending= False)\n",
    "customer_prob_top_100 = customer_prob_sorted.iloc[:100]\n",
    "customer_prob_top_100\n"
   ]
  },
  {
   "cell_type": "markdown",
   "metadata": {
    "id": "doSG1KSO4X1l"
   },
   "source": [
    "LR Sklearn with split<a name=\"Sklearn-with-split\"></a>"
   ]
  },
  {
   "cell_type": "code",
   "execution_count": 16,
   "metadata": {
    "colab": {
     "base_uri": "https://localhost:8080/"
    },
    "id": "UupRBfr8p1FV",
    "outputId": "eec8a24d-56ea-4254-8a5a-0b356ddbe113"
   },
   "outputs": [
    {
     "name": "stdout",
     "output_type": "stream",
     "text": [
      "training accuracy: 0.951\n",
      "test accuracy: 0.945\n"
     ]
    },
    {
     "name": "stderr",
     "output_type": "stream",
     "text": [
      "/usr/local/lib/python3.7/dist-packages/sklearn/linear_model/_logistic.py:940: ConvergenceWarning: lbfgs failed to converge (status=1):\n",
      "STOP: TOTAL NO. of ITERATIONS REACHED LIMIT.\n",
      "\n",
      "Increase the number of iterations (max_iter) or scale the data as shown in:\n",
      "    https://scikit-learn.org/stable/modules/preprocessing.html\n",
      "Please also refer to the documentation for alternative solver options:\n",
      "    https://scikit-learn.org/stable/modules/linear_model.html#logistic-regression\n",
      "  extra_warning_msg=_LOGISTIC_SOLVER_CONVERGENCE_MSG)\n"
     ]
    }
   ],
   "source": [
    "#with sklearn and split train and test - LogisticRegression model \n",
    "from sklearn.linear_model import LogisticRegression\n",
    "from sklearn.model_selection import train_test_split\n",
    "import statsmodels.api as sm\n",
    "from statsmodels.formula.api import logit, glm, ols\n",
    "\n",
    "logit_X = df.drop(['ID', 'Churn'], axis = 1)\n",
    "logit_y = df.Churn\n",
    "\n",
    "\n",
    "X_train, X_test, y_train,y_test = train_test_split(logit_X, logit_y, test_size = 0.3, random_state = 0)\n",
    "\n",
    "\n",
    "logit_model_sklearn = LogisticRegression()\n",
    "logit_model_sklearn.fit(X_train, y_train)\n",
    "print('training accuracy: {:.3f}'.format(logit_model_sklearn.score(X_train, y_train)))\n",
    "print('test accuracy: {:.3f}'.format(logit_model_sklearn.score(X_test, y_test)))\n",
    "intercept = logit_model_sklearn.intercept_\n",
    "coef = logit_model_sklearn.coef_\n",
    "\n",
    "\n"
   ]
  },
  {
   "cell_type": "code",
   "execution_count": 17,
   "metadata": {
    "colab": {
     "base_uri": "https://localhost:8080/",
     "height": 142
    },
    "id": "KheYQ3gJqAD0",
    "outputId": "c0c5da99-ea20-4784-b494-680678b3f92c"
   },
   "outputs": [
    {
     "data": {
      "text/html": [
       "<div>\n",
       "<style scoped>\n",
       "    .dataframe tbody tr th:only-of-type {\n",
       "        vertical-align: middle;\n",
       "    }\n",
       "\n",
       "    .dataframe tbody tr th {\n",
       "        vertical-align: top;\n",
       "    }\n",
       "\n",
       "    .dataframe thead th {\n",
       "        text-align: right;\n",
       "    }\n",
       "</style>\n",
       "<table border=\"1\" class=\"dataframe\">\n",
       "  <thead>\n",
       "    <tr style=\"text-align: right;\">\n",
       "      <th></th>\n",
       "      <th>predicted probability of churning</th>\n",
       "    </tr>\n",
       "  </thead>\n",
       "  <tbody>\n",
       "    <tr>\n",
       "      <th>672</th>\n",
       "      <td>0.063147</td>\n",
       "    </tr>\n",
       "    <tr>\n",
       "      <th>354</th>\n",
       "      <td>0.079291</td>\n",
       "    </tr>\n",
       "    <tr>\n",
       "      <th>5203</th>\n",
       "      <td>0.050701</td>\n",
       "    </tr>\n",
       "  </tbody>\n",
       "</table>\n",
       "</div>"
      ],
      "text/plain": [
       "      predicted probability of churning\n",
       "672                            0.063147\n",
       "354                            0.079291\n",
       "5203                           0.050701"
      ]
     },
     "execution_count": 17,
     "metadata": {},
     "output_type": "execute_result"
    }
   ],
   "source": [
    "#with sklearn and split train and test - LogisticRegression model - 3 selected probability\n",
    "x_logit_model_sklearn = [672, 354, 5203]\n",
    "\n",
    "\n",
    "x_logit_model_sklearn_prob = []\n",
    "\n",
    "for i in x_logit_model_sklearn: \n",
    "  s = pd.Series(df_drop.iloc[i-1])\n",
    "  eta = intercept + s.dot(coef.T)\n",
    "  x_logit_model_sklearn_prob.append(np.exp(eta)/(1 + np.exp(eta)))\n",
    "\n",
    "customer_prob_selected_logit_model_sklearn = pd.DataFrame(x_logit_model_sklearn_prob, x_logit_model_sklearn)\n",
    "customer_prob_selected_logit_model_sklearn.columns = [\"predicted probability of churning\"]\n",
    "customer_prob_selected_logit_model_sklearn"
   ]
  },
  {
   "cell_type": "code",
   "execution_count": null,
   "metadata": {
    "colab": {
     "base_uri": "https://localhost:8080/",
     "height": 454
    },
    "id": "QqDSR4iSqJ8F",
    "outputId": "0a619f91-9401-40ff-f48d-a86bc920def5"
   },
   "outputs": [
    {
     "data": {
      "text/html": [
       "<div>\n",
       "<style scoped>\n",
       "    .dataframe tbody tr th:only-of-type {\n",
       "        vertical-align: middle;\n",
       "    }\n",
       "\n",
       "    .dataframe tbody tr th {\n",
       "        vertical-align: top;\n",
       "    }\n",
       "\n",
       "    .dataframe thead th {\n",
       "        text-align: right;\n",
       "    }\n",
       "</style>\n",
       "<table border=\"1\" class=\"dataframe\">\n",
       "  <thead>\n",
       "    <tr style=\"text-align: right;\">\n",
       "      <th></th>\n",
       "      <th>predicted probability of churning</th>\n",
       "    </tr>\n",
       "    <tr>\n",
       "      <th>ID</th>\n",
       "      <th></th>\n",
       "    </tr>\n",
       "  </thead>\n",
       "  <tbody>\n",
       "    <tr>\n",
       "      <th>929</th>\n",
       "      <td>0.4356</td>\n",
       "    </tr>\n",
       "    <tr>\n",
       "      <th>2287</th>\n",
       "      <td>0.3621</td>\n",
       "    </tr>\n",
       "    <tr>\n",
       "      <th>109</th>\n",
       "      <td>0.3211</td>\n",
       "    </tr>\n",
       "    <tr>\n",
       "      <th>1971</th>\n",
       "      <td>0.2691</td>\n",
       "    </tr>\n",
       "    <tr>\n",
       "      <th>299</th>\n",
       "      <td>0.2561</td>\n",
       "    </tr>\n",
       "    <tr>\n",
       "      <th>...</th>\n",
       "      <td>...</td>\n",
       "    </tr>\n",
       "    <tr>\n",
       "      <th>1143</th>\n",
       "      <td>0.1429</td>\n",
       "    </tr>\n",
       "    <tr>\n",
       "      <th>2656</th>\n",
       "      <td>0.1428</td>\n",
       "    </tr>\n",
       "    <tr>\n",
       "      <th>3955</th>\n",
       "      <td>0.1427</td>\n",
       "    </tr>\n",
       "    <tr>\n",
       "      <th>4144</th>\n",
       "      <td>0.1425</td>\n",
       "    </tr>\n",
       "    <tr>\n",
       "      <th>2295</th>\n",
       "      <td>0.1419</td>\n",
       "    </tr>\n",
       "  </tbody>\n",
       "</table>\n",
       "<p>100 rows × 1 columns</p>\n",
       "</div>"
      ],
      "text/plain": [
       "      predicted probability of churning\n",
       "ID                                     \n",
       "929                              0.4356\n",
       "2287                             0.3621\n",
       "109                              0.3211\n",
       "1971                             0.2691\n",
       "299                              0.2561\n",
       "...                                 ...\n",
       "1143                             0.1429\n",
       "2656                             0.1428\n",
       "3955                             0.1427\n",
       "4144                             0.1425\n",
       "2295                             0.1419\n",
       "\n",
       "[100 rows x 1 columns]"
      ]
     },
     "execution_count": 16,
     "metadata": {},
     "output_type": "execute_result"
    }
   ],
   "source": [
    "#with sklearn and split train and test - LogisticRegression model - top 100 probability\n",
    "\n",
    "y_logit_model_sklearn_prob = []\n",
    "\n",
    "for i in range(1,len(df)+1): \n",
    "  s = pd.Series(df_drop.iloc[i-1])\n",
    "  eta = intercept + s.dot(coef.T)\n",
    "  y_logit_model_sklearn_prob.append(np.exp(eta)/(1 + np.exp(eta)))\n",
    "\n",
    "\n",
    "customer_prob = pd.DataFrame(y_logit_model_sklearn_prob, df.ID)\n",
    "customer_prob.columns = [\"predicted probability of churning\"]\n",
    "customer_prob\n",
    "\n",
    "pd.options.display.float_format = '{:.4f}'.format\n",
    "customer_prob_sorted = customer_prob.sort_values(by = \"predicted probability of churning\", ascending= False)\n",
    "customer_prob_top_100 = customer_prob_sorted.iloc[:100]\n",
    "customer_prob_top_100"
   ]
  },
  {
   "cell_type": "markdown",
   "metadata": {
    "id": "20VePbIW4gHd"
   },
   "source": [
    "LR (Statsmodel) w split w Oversampling<a name=\"Sklearn-w-split-w-oversample\"></a>"
   ]
  },
  {
   "cell_type": "code",
   "execution_count": 20,
   "metadata": {
    "colab": {
     "base_uri": "https://localhost:8080/",
     "height": 571
    },
    "id": "mm71XULxNugA",
    "outputId": "c8dbb934-fe7d-4ce2-bd10-dc1d043e1783"
   },
   "outputs": [
    {
     "name": "stderr",
     "output_type": "stream",
     "text": [
      "/usr/local/lib/python3.7/dist-packages/sklearn/externals/six.py:31: FutureWarning: The module is deprecated in version 0.21 and will be removed in version 0.23 since we've dropped support for Python 2.7. Please rely on the official version of six (https://pypi.org/project/six/).\n",
      "  \"(https://pypi.org/project/six/).\", FutureWarning)\n",
      "/usr/local/lib/python3.7/dist-packages/sklearn/utils/deprecation.py:144: FutureWarning: The sklearn.neighbors.base module is  deprecated in version 0.22 and will be removed in version 0.24. The corresponding classes / functions should instead be imported from sklearn.neighbors. Anything that cannot be imported from sklearn.neighbors is now part of the private API.\n",
      "  warnings.warn(message, FutureWarning)\n",
      "/usr/local/lib/python3.7/dist-packages/sklearn/utils/validation.py:760: DataConversionWarning: A column-vector y was passed when a 1d array was expected. Please change the shape of y to (n_samples, ), for example using ravel().\n",
      "  y = column_or_1d(y, warn=True)\n",
      "/usr/local/lib/python3.7/dist-packages/sklearn/utils/deprecation.py:87: FutureWarning: Function safe_indexing is deprecated; safe_indexing is deprecated in version 0.22 and will be removed in version 0.24.\n",
      "  warnings.warn(msg, category=FutureWarning)\n"
     ]
    },
    {
     "data": {
      "text/html": [
       "<div>\n",
       "<style scoped>\n",
       "    .dataframe tbody tr th:only-of-type {\n",
       "        vertical-align: middle;\n",
       "    }\n",
       "\n",
       "    .dataframe tbody tr th {\n",
       "        vertical-align: top;\n",
       "    }\n",
       "\n",
       "    .dataframe thead th {\n",
       "        text-align: right;\n",
       "    }\n",
       "</style>\n",
       "<table border=\"1\" class=\"dataframe\">\n",
       "  <thead>\n",
       "    <tr style=\"text-align: right;\">\n",
       "      <th></th>\n",
       "      <th>Churn</th>\n",
       "      <th>ID</th>\n",
       "      <th>Age</th>\n",
       "      <th>CHI_0</th>\n",
       "      <th>CHI_1</th>\n",
       "      <th>Support_Cases_0</th>\n",
       "      <th>Support_Cases_1</th>\n",
       "      <th>SP_0</th>\n",
       "      <th>SP_1</th>\n",
       "      <th>Logins_1</th>\n",
       "      <th>Blogs_1</th>\n",
       "      <th>Views_1</th>\n",
       "      <th>Days_Last_Login</th>\n",
       "    </tr>\n",
       "  </thead>\n",
       "  <tbody>\n",
       "    <tr>\n",
       "      <th>0</th>\n",
       "      <td>0</td>\n",
       "      <td>1.0</td>\n",
       "      <td>67.0</td>\n",
       "      <td>0.0</td>\n",
       "      <td>0.0</td>\n",
       "      <td>0.0</td>\n",
       "      <td>0.0</td>\n",
       "      <td>0.0</td>\n",
       "      <td>0.0</td>\n",
       "      <td>0.0</td>\n",
       "      <td>0.0</td>\n",
       "      <td>0.0</td>\n",
       "      <td>31.0</td>\n",
       "    </tr>\n",
       "    <tr>\n",
       "      <th>1</th>\n",
       "      <td>0</td>\n",
       "      <td>2.0</td>\n",
       "      <td>67.0</td>\n",
       "      <td>62.0</td>\n",
       "      <td>4.0</td>\n",
       "      <td>0.0</td>\n",
       "      <td>0.0</td>\n",
       "      <td>0.0</td>\n",
       "      <td>0.0</td>\n",
       "      <td>0.0</td>\n",
       "      <td>0.0</td>\n",
       "      <td>-16.0</td>\n",
       "      <td>31.0</td>\n",
       "    </tr>\n",
       "    <tr>\n",
       "      <th>2</th>\n",
       "      <td>0</td>\n",
       "      <td>3.0</td>\n",
       "      <td>55.0</td>\n",
       "      <td>0.0</td>\n",
       "      <td>0.0</td>\n",
       "      <td>0.0</td>\n",
       "      <td>0.0</td>\n",
       "      <td>0.0</td>\n",
       "      <td>0.0</td>\n",
       "      <td>0.0</td>\n",
       "      <td>0.0</td>\n",
       "      <td>0.0</td>\n",
       "      <td>31.0</td>\n",
       "    </tr>\n",
       "    <tr>\n",
       "      <th>3</th>\n",
       "      <td>0</td>\n",
       "      <td>4.0</td>\n",
       "      <td>63.0</td>\n",
       "      <td>231.0</td>\n",
       "      <td>1.0</td>\n",
       "      <td>1.0</td>\n",
       "      <td>-1.0</td>\n",
       "      <td>3.0</td>\n",
       "      <td>0.0</td>\n",
       "      <td>167.0</td>\n",
       "      <td>-8.0</td>\n",
       "      <td>21996.0</td>\n",
       "      <td>0.0</td>\n",
       "    </tr>\n",
       "    <tr>\n",
       "      <th>4</th>\n",
       "      <td>0</td>\n",
       "      <td>5.0</td>\n",
       "      <td>57.0</td>\n",
       "      <td>43.0</td>\n",
       "      <td>-1.0</td>\n",
       "      <td>0.0</td>\n",
       "      <td>0.0</td>\n",
       "      <td>0.0</td>\n",
       "      <td>0.0</td>\n",
       "      <td>0.0</td>\n",
       "      <td>0.0</td>\n",
       "      <td>9.0</td>\n",
       "      <td>31.0</td>\n",
       "    </tr>\n",
       "    <tr>\n",
       "      <th>...</th>\n",
       "      <td>...</td>\n",
       "      <td>...</td>\n",
       "      <td>...</td>\n",
       "      <td>...</td>\n",
       "      <td>...</td>\n",
       "      <td>...</td>\n",
       "      <td>...</td>\n",
       "      <td>...</td>\n",
       "      <td>...</td>\n",
       "      <td>...</td>\n",
       "      <td>...</td>\n",
       "      <td>...</td>\n",
       "      <td>...</td>\n",
       "    </tr>\n",
       "    <tr>\n",
       "      <th>12043</th>\n",
       "      <td>1</td>\n",
       "      <td>4582.0</td>\n",
       "      <td>6.0</td>\n",
       "      <td>0.0</td>\n",
       "      <td>-5.0</td>\n",
       "      <td>0.0</td>\n",
       "      <td>0.0</td>\n",
       "      <td>0.0</td>\n",
       "      <td>0.0</td>\n",
       "      <td>-2.0</td>\n",
       "      <td>0.0</td>\n",
       "      <td>117.0</td>\n",
       "      <td>-24.0</td>\n",
       "    </tr>\n",
       "    <tr>\n",
       "      <th>12044</th>\n",
       "      <td>1</td>\n",
       "      <td>4715.0</td>\n",
       "      <td>5.0</td>\n",
       "      <td>0.0</td>\n",
       "      <td>-31.0</td>\n",
       "      <td>0.0</td>\n",
       "      <td>0.0</td>\n",
       "      <td>0.0</td>\n",
       "      <td>0.0</td>\n",
       "      <td>-10.0</td>\n",
       "      <td>0.0</td>\n",
       "      <td>243.0</td>\n",
       "      <td>0.0</td>\n",
       "    </tr>\n",
       "    <tr>\n",
       "      <th>12045</th>\n",
       "      <td>1</td>\n",
       "      <td>4137.0</td>\n",
       "      <td>9.0</td>\n",
       "      <td>150.0</td>\n",
       "      <td>-5.0</td>\n",
       "      <td>0.0</td>\n",
       "      <td>0.0</td>\n",
       "      <td>0.0</td>\n",
       "      <td>0.0</td>\n",
       "      <td>21.0</td>\n",
       "      <td>-8.0</td>\n",
       "      <td>0.0</td>\n",
       "      <td>0.0</td>\n",
       "    </tr>\n",
       "    <tr>\n",
       "      <th>12046</th>\n",
       "      <td>1</td>\n",
       "      <td>4280.0</td>\n",
       "      <td>7.0</td>\n",
       "      <td>18.0</td>\n",
       "      <td>-56.0</td>\n",
       "      <td>0.0</td>\n",
       "      <td>0.0</td>\n",
       "      <td>0.0</td>\n",
       "      <td>0.0</td>\n",
       "      <td>-6.0</td>\n",
       "      <td>-1.0</td>\n",
       "      <td>-58.0</td>\n",
       "      <td>7.0</td>\n",
       "    </tr>\n",
       "    <tr>\n",
       "      <th>12047</th>\n",
       "      <td>1</td>\n",
       "      <td>3978.0</td>\n",
       "      <td>9.0</td>\n",
       "      <td>0.0</td>\n",
       "      <td>-25.0</td>\n",
       "      <td>0.0</td>\n",
       "      <td>0.0</td>\n",
       "      <td>0.0</td>\n",
       "      <td>0.0</td>\n",
       "      <td>-6.0</td>\n",
       "      <td>0.0</td>\n",
       "      <td>13.0</td>\n",
       "      <td>-7.0</td>\n",
       "    </tr>\n",
       "  </tbody>\n",
       "</table>\n",
       "<p>12048 rows × 13 columns</p>\n",
       "</div>"
      ],
      "text/plain": [
       "       Churn      ID   Age  CHI_0  ...  Logins_1  Blogs_1  Views_1  Days_Last_Login\n",
       "0          0     1.0  67.0    0.0  ...       0.0      0.0      0.0             31.0\n",
       "1          0     2.0  67.0   62.0  ...       0.0      0.0    -16.0             31.0\n",
       "2          0     3.0  55.0    0.0  ...       0.0      0.0      0.0             31.0\n",
       "3          0     4.0  63.0  231.0  ...     167.0     -8.0  21996.0              0.0\n",
       "4          0     5.0  57.0   43.0  ...       0.0      0.0      9.0             31.0\n",
       "...      ...     ...   ...    ...  ...       ...      ...      ...              ...\n",
       "12043      1  4582.0   6.0    0.0  ...      -2.0      0.0    117.0            -24.0\n",
       "12044      1  4715.0   5.0    0.0  ...     -10.0      0.0    243.0              0.0\n",
       "12045      1  4137.0   9.0  150.0  ...      21.0     -8.0      0.0              0.0\n",
       "12046      1  4280.0   7.0   18.0  ...      -6.0     -1.0    -58.0              7.0\n",
       "12047      1  3978.0   9.0    0.0  ...      -6.0      0.0     13.0             -7.0\n",
       "\n",
       "[12048 rows x 13 columns]"
      ]
     },
     "execution_count": 20,
     "metadata": {},
     "output_type": "execute_result"
    }
   ],
   "source": [
    "from collections import Counter\n",
    "from sklearn.datasets import make_classification\n",
    "from matplotlib import pyplot\n",
    "from imblearn.over_sampling import RandomOverSampler\n",
    "import imblearn\n",
    "\n",
    "X = df.loc[:, df.columns != 'Churn']\n",
    "y = df.loc[:, df.columns == 'Churn']\n",
    "\n",
    "#Over sampling\n",
    "oversample = RandomOverSampler(sampling_strategy='minority')\n",
    "X,y=oversample.fit_resample(X, y)\n",
    "final = [y,X]\n",
    "#type(final)\n",
    "a=pd.Series(final[0])\n",
    "b=pd.DataFrame(final[1])\n",
    "final_df=pd.concat([a,b],axis=1)\n",
    "final_df.columns = [\"Churn\",\"ID\",\"Age\",\"CHI_0\",\"CHI_1\",\"Support_Cases_0\",\"Support_Cases_1\",\"SP_0\",\"SP_1\",\"Logins_1\",\"Blogs_1\", \"Views_1\",\"Days_Last_Login\"]\n",
    "final_df\n",
    "\n"
   ]
  },
  {
   "cell_type": "code",
   "execution_count": 22,
   "metadata": {
    "colab": {
     "base_uri": "https://localhost:8080/"
    },
    "id": "8pAcyoVZPrOV",
    "outputId": "f95ad497-6bb0-4d15-9305-a5e89be8ce88"
   },
   "outputs": [
    {
     "data": {
      "text/plain": [
       "1    6024\n",
       "0    6024\n",
       "Name: Churn, dtype: int64"
      ]
     },
     "execution_count": 22,
     "metadata": {},
     "output_type": "execute_result"
    }
   ],
   "source": [
    "final_df[\"Churn\"].value_counts()"
   ]
  },
  {
   "cell_type": "code",
   "execution_count": 23,
   "metadata": {
    "colab": {
     "base_uri": "https://localhost:8080/"
    },
    "id": "9b1Vxe19he5B",
    "outputId": "4b440397-1ae4-4608-a305-9af806bd39d8"
   },
   "outputs": [
    {
     "name": "stdout",
     "output_type": "stream",
     "text": [
      "Optimization terminated successfully.\n",
      "         Current function value: 0.648023\n",
      "         Iterations 6\n",
      "                           Logit Regression Results                           \n",
      "==============================================================================\n",
      "Dep. Variable:                  Churn   No. Observations:                12048\n",
      "Model:                          Logit   Df Residuals:                    12036\n",
      "Method:                           MLE   Df Model:                           11\n",
      "Date:                Fri, 12 Nov 2021   Pseudo R-squ.:                 0.06510\n",
      "Time:                        03:44:33   Log-Likelihood:                -7807.4\n",
      "converged:                       True   LL-Null:                       -8351.0\n",
      "Covariance Type:            nonrobust   LLR p-value:                3.061e-226\n",
      "===================================================================================\n",
      "                      coef    std err          z      P>|z|      [0.025      0.975]\n",
      "-----------------------------------------------------------------------------------\n",
      "Intercept           0.1194      0.039      3.037      0.002       0.042       0.197\n",
      "Age                 0.0165      0.002      8.197      0.000       0.013       0.020\n",
      "CHI_0              -0.0044      0.000    -11.956      0.000      -0.005      -0.004\n",
      "CHI_1              -0.0102      0.001    -12.807      0.000      -0.012      -0.009\n",
      "Support_Cases_0    -0.1392      0.028     -4.930      0.000      -0.195      -0.084\n",
      "Support_Cases_1     0.1328      0.023      5.887      0.000       0.089       0.177\n",
      "SP_0               -0.0345      0.030     -1.144      0.253      -0.093       0.025\n",
      "SP_1               -0.0164      0.023     -0.725      0.469      -0.061       0.028\n",
      "Logins_1            0.0009      0.001      1.619      0.106      -0.000       0.002\n",
      "Blogs_1            -0.0074      0.007     -1.024      0.306      -0.022       0.007\n",
      "Views_1         -9.778e-05    1.7e-05     -5.740      0.000      -0.000   -6.44e-05\n",
      "Days_Last_Login     0.0135      0.001     12.424      0.000       0.011       0.016\n",
      "===================================================================================\n"
     ]
    }
   ],
   "source": [
    "# Logisitic regression after over sampling\n",
    "logit_model_df = logit('Churn ~ Age+CHI_0+CHI_1+Support_Cases_0+Support_Cases_1+SP_0+SP_1+Logins_1+Blogs_1+Views_1+Days_Last_Login',final_df).fit()\n",
    "print(logit_model_df.summary())"
   ]
  },
  {
   "cell_type": "code",
   "execution_count": 24,
   "metadata": {
    "colab": {
     "base_uri": "https://localhost:8080/"
    },
    "id": "ui_KOg27mAUB",
    "outputId": "5e0c4774-0d31-48fb-efee-4ee6f08eda2c"
   },
   "outputs": [
    {
     "name": "stdout",
     "output_type": "stream",
     "text": [
      "671    0.438015\n",
      "dtype: float64 353    0.492993\n",
      "dtype: float64 5202    0.439674\n",
      "dtype: float64\n"
     ]
    }
   ],
   "source": [
    "pred1 = logit_model_df.predict(df.iloc[671])\n",
    "pred2 = logit_model_df.predict(df.iloc[353])\n",
    "pred3 = logit_model_df.predict(df.iloc[5202])\n",
    "print(pred1,pred2,pred3)"
   ]
  },
  {
   "cell_type": "markdown",
   "metadata": {
    "id": "L4EvpEd6kkA9"
   },
   "source": [
    "Decision Tree model"
   ]
  },
  {
   "cell_type": "code",
   "execution_count": 33,
   "metadata": {
    "colab": {
     "base_uri": "https://localhost:8080/"
    },
    "id": "4VOIVz2OkEed",
    "outputId": "b1401bc3-6b6f-4b1b-de14-6a6195cbf517"
   },
   "outputs": [
    {
     "name": "stdout",
     "output_type": "stream",
     "text": [
      "[[1428   73]\n",
      " [  74   12]]\n"
     ]
    }
   ],
   "source": [
    "from sklearn.model_selection import train_test_split\n",
    "from sklearn.tree import DecisionTreeClassifier\n",
    "from sklearn.metrics import confusion_matrix\n",
    "x= df.drop(['ID','Churn'],axis=1)\n",
    "y=df[\"Churn\"]\n",
    "x_train,x_val,y_train,y_val=train_test_split(x,y,random_state=0)\n",
    "Dmodel = DecisionTreeClassifier()\n",
    "Dmodel.fit(x_train,y_train)\n",
    "y_pred=Dmodel.predict(x_val)\n",
    "res=confusion_matrix(y_val,y_pred)\n",
    "print(res)"
   ]
  },
  {
   "cell_type": "code",
   "execution_count": 34,
   "metadata": {
    "colab": {
     "base_uri": "https://localhost:8080/"
    },
    "id": "dAf-CCankEmi",
    "outputId": "740611e7-6ff0-4b96-af17-f847bac45c57"
   },
   "outputs": [
    {
     "name": "stdout",
     "output_type": "stream",
     "text": [
      "Accuracy of Decision tree model before sampling: 0.9073724007561437\n"
     ]
    }
   ],
   "source": [
    "Accuracy=(res[0][0]+res[1][1])/res.sum()\n",
    "print(\"Accuracy of Decision tree model before sampling:\",Accuracy)"
   ]
  },
  {
   "cell_type": "code",
   "execution_count": 35,
   "metadata": {
    "colab": {
     "base_uri": "https://localhost:8080/"
    },
    "id": "Gq-crcYHkEp8",
    "outputId": "aa3de244-6d21-4790-a525-457b984711ca"
   },
   "outputs": [
    {
     "name": "stdout",
     "output_type": "stream",
     "text": [
      "Confusion matrix \n",
      " [[1399   91]\n",
      " [  11 1511]]\n"
     ]
    }
   ],
   "source": [
    "x1= final_df.drop(['ID','Churn'],axis=1)\n",
    "y1=final_df[\"Churn\"]\n",
    "x_train,x_val,y_train,y_val=train_test_split(x1,y1,random_state=0)\n",
    "Dmodel = DecisionTreeClassifier()\n",
    "Dmodel.fit(x_train,y_train)\n",
    "y_pred=Dmodel.predict(x_val)\n",
    "res=confusion_matrix(y_val,y_pred)\n",
    "print(\"Confusion matrix \\n\",res)"
   ]
  },
  {
   "cell_type": "code",
   "execution_count": 37,
   "metadata": {
    "colab": {
     "base_uri": "https://localhost:8080/"
    },
    "id": "LqqA_YuckaOt",
    "outputId": "3349a210-85ba-4e56-e274-29c0b40bcc5a"
   },
   "outputs": [
    {
     "name": "stdout",
     "output_type": "stream",
     "text": [
      "Accuracy of Decision tree model after over sampling: 0.9661354581673307\n"
     ]
    }
   ],
   "source": [
    "Accuracy1=(res[0][0]+res[1][1])/res.sum()\n",
    "print(\"Accuracy of Decision tree model after over sampling:\",Accuracy1)"
   ]
  },
  {
   "cell_type": "markdown",
   "metadata": {
    "id": "W8KNkCPlQzIV"
   },
   "source": [
    "Decision Tree model after over sampling performed better than previous models."
   ]
  },
  {
   "cell_type": "markdown",
   "metadata": {
    "id": "7Zn-mDdYSua5"
   },
   "source": [
    "Random forest model"
   ]
  },
  {
   "cell_type": "code",
   "execution_count": 41,
   "metadata": {
    "colab": {
     "base_uri": "https://localhost:8080/"
    },
    "id": "7LJ19lprRdVJ",
    "outputId": "038174df-60e9-49c2-ccb6-ba012b0b3c8c"
   },
   "outputs": [
    {
     "name": "stdout",
     "output_type": "stream",
     "text": [
      "Confusion matrix\n",
      " [[1469   21]\n",
      " [  11 1511]]\n",
      "Accuracy of random forest model: 0.9893758300132802\n"
     ]
    }
   ],
   "source": [
    "from sklearn.ensemble import RandomForestClassifier\n",
    "\n",
    "forest_model = RandomForestClassifier(random_state=1)\n",
    "forest_model.fit(x_train, y_train)\n",
    "y_preds = forest_model.predict(x_val)\n",
    "res1=confusion_matrix(y_val,y_preds)\n",
    "print(\"Confusion matrix\\n\",res1)\n",
    "Accuracy1=(res1[0][0]+res1[1][1])/res1.sum()\n",
    "print(\"Accuracy of random forest model:\",Accuracy1)"
   ]
  },
  {
   "cell_type": "markdown",
   "metadata": {
    "id": "GzV9h2IvSY0c"
   },
   "source": [
    "It is observed that Random forest model has a better accuracy prediciting the churn rate overall after over sampling."
   ]
  },
  {
   "cell_type": "code",
   "execution_count": null,
   "metadata": {
    "id": "72GeXytJAHql"
   },
   "outputs": [],
   "source": [
    "#https://stackoverflow.com/questions/53460051/convert-ipynb-notebook-to-html-in-google-colab"
   ]
  },
  {
   "cell_type": "code",
   "execution_count": null,
   "metadata": {
    "id": "0onJn7JDAPoV"
   },
   "outputs": [],
   "source": [
    "%%shell\n",
    "jupyter nbconvert --to html /PATH/TO/YOUR/NOTEBOOKFILE.ipynb"
   ]
  },
  {
   "cell_type": "markdown",
   "metadata": {
    "id": "_ott8w20ihlc"
   },
   "source": [
    "Great Job!"
   ]
  }
 ],
 "metadata": {
  "colab": {
   "collapsed_sections": [],
   "name": "[Team19]Group Assignment 1_BANA212_2021.ipynb",
   "provenance": []
  },
  "kernelspec": {
   "display_name": "Python 3",
   "language": "python",
   "name": "python3"
  },
  "language_info": {
   "codemirror_mode": {
    "name": "ipython",
    "version": 3
   },
   "file_extension": ".py",
   "mimetype": "text/x-python",
   "name": "python",
   "nbconvert_exporter": "python",
   "pygments_lexer": "ipython3",
   "version": "3.8.8"
  }
 },
 "nbformat": 4,
 "nbformat_minor": 1
}
